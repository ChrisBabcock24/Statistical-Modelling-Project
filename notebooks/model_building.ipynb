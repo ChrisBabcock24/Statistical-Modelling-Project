{
 "cells": [
  {
   "cell_type": "markdown",
   "metadata": {},
   "source": [
    "Build a regression model."
   ]
  },
  {
   "cell_type": "code",
   "execution_count": 1,
   "metadata": {},
   "outputs": [],
   "source": [
    "# Imports\n",
    "import pandas as pd\n",
    "import matplotlib.pyplot as plt\n",
    "import numpy as np\n",
    "import seaborn as sns\n",
    "import statsmodels.api as sm\n",
    "\n"
   ]
  },
  {
   "cell_type": "code",
   "execution_count": 2,
   "metadata": {},
   "outputs": [],
   "source": [
    "# Specify the file path of CSV file\n",
    "file_path = 'D:/Documents/GitHub/Statistical-Modelling-Project/filtered_merged_data.csv'\n",
    "\n",
    "# Load the CSV file into a DataFrame\n",
    "montreal_POI_bike_df = pd.read_csv(file_path)"
   ]
  },
  {
   "cell_type": "code",
   "execution_count": 3,
   "metadata": {},
   "outputs": [
    {
     "name": "stdout",
     "output_type": "stream",
     "text": [
      "                            OLS Regression Results                            \n",
      "==============================================================================\n",
      "Dep. Variable:                 Rating   R-squared:                       0.055\n",
      "Model:                            OLS   Adj. R-squared:                  0.053\n",
      "Method:                 Least Squares   F-statistic:                     36.02\n",
      "Date:                Tue, 16 Jul 2024   Prob (F-statistic):           1.26e-22\n",
      "Time:                        23:07:14   Log-Likelihood:                -1859.8\n",
      "No. Observations:                1868   AIC:                             3728.\n",
      "Df Residuals:                    1864   BIC:                             3750.\n",
      "Df Model:                           3                                         \n",
      "Covariance Type:            nonrobust                                         \n",
      "=====================================================================================\n",
      "                        coef    std err          t      P>|t|      [0.025      0.975]\n",
      "-------------------------------------------------------------------------------------\n",
      "const                 3.9087      0.022    180.555      0.000       3.866       3.951\n",
      "Num_Bike_Stations     0.0384      0.009      4.223      0.000       0.021       0.056\n",
      "Free_Bikes           -0.0010      0.001     -1.652      0.099      -0.002       0.000\n",
      "Empty_Slots          -0.0005      0.000     -1.571      0.116      -0.001       0.000\n",
      "==============================================================================\n",
      "Omnibus:                      218.646   Durbin-Watson:                   1.949\n",
      "Prob(Omnibus):                  0.000   Jarque-Bera (JB):              336.168\n",
      "Skew:                          -0.832   Prob(JB):                     1.00e-73\n",
      "Kurtosis:                       4.244   Cond. No.                         275.\n",
      "==============================================================================\n",
      "\n",
      "Notes:\n",
      "[1] Standard Errors assume that the covariance matrix of the errors is correctly specified.\n"
     ]
    }
   ],
   "source": [
    "# Selecting relevant columns for the regression model\n",
    "data = montreal_POI_bike_df[['Rating', 'Num_Bike_Stations', 'Free_Bikes', 'Empty_Slots']]\n",
    "\n",
    "# Drop rows with any missing values\n",
    "data = data.dropna()\n",
    "\n",
    "# Define dependent variable (y) and independent variables (X)\n",
    "y = data['Rating']\n",
    "X = data[['Num_Bike_Stations', 'Free_Bikes', 'Empty_Slots']]\n",
    "\n",
    "# Add a constant to the independent variables (for intercept)\n",
    "X = sm.add_constant(X)\n",
    "\n",
    "# Create a linear regression model\n",
    "model = sm.OLS(y, X)\n",
    "\n",
    "# Fit the model\n",
    "results = model.fit()\n",
    "\n",
    "# Print the summary of the model\n",
    "print(results.summary())"
   ]
  },
  {
   "cell_type": "code",
   "execution_count": 4,
   "metadata": {},
   "outputs": [
    {
     "name": "stdout",
     "output_type": "stream",
     "text": [
      "                            OLS Regression Results                            \n",
      "==============================================================================\n",
      "Dep. Variable:                 Rating   R-squared:                       0.053\n",
      "Model:                            OLS   Adj. R-squared:                  0.052\n",
      "Method:                 Least Squares   F-statistic:                     103.9\n",
      "Date:                Tue, 16 Jul 2024   Prob (F-statistic):           8.86e-24\n",
      "Time:                        23:08:18   Log-Likelihood:                -1861.8\n",
      "No. Observations:                1868   AIC:                             3728.\n",
      "Df Residuals:                    1866   BIC:                             3739.\n",
      "Df Model:                           1                                         \n",
      "Covariance Type:            nonrobust                                         \n",
      "=====================================================================================\n",
      "                        coef    std err          t      P>|t|      [0.025      0.975]\n",
      "-------------------------------------------------------------------------------------\n",
      "const                 3.9176      0.021    185.473      0.000       3.876       3.959\n",
      "Num_Bike_Stations     0.0206      0.002     10.193      0.000       0.017       0.025\n",
      "==============================================================================\n",
      "Omnibus:                      215.203   Durbin-Watson:                   1.946\n",
      "Prob(Omnibus):                  0.000   Jarque-Bera (JB):              327.836\n",
      "Skew:                          -0.826   Prob(JB):                     6.48e-72\n",
      "Kurtosis:                       4.217   Cond. No.                         14.6\n",
      "==============================================================================\n",
      "\n",
      "Notes:\n",
      "[1] Standard Errors assume that the covariance matrix of the errors is correctly specified.\n"
     ]
    }
   ],
   "source": [
    "# Define dependent variable (y) and independent variable (X)\n",
    "y = data['Rating']\n",
    "X = data[['Num_Bike_Stations']]\n",
    "\n",
    "# Add a constant to the independent variable (for intercept)\n",
    "X = sm.add_constant(X)\n",
    "\n",
    "# Create a linear regression model using OLS (Ordinary Least Squares)\n",
    "model = sm.OLS(y, X)\n",
    "\n",
    "# Fit the model\n",
    "results = model.fit()\n",
    "\n",
    "# Print the summary of the model\n",
    "print(results.summary())\n"
   ]
  },
  {
   "cell_type": "markdown",
   "metadata": {},
   "source": [
    "Provide model output and an interpretation of the results. "
   ]
  },
  {
   "cell_type": "code",
   "execution_count": null,
   "metadata": {},
   "outputs": [],
   "source": [
    "# See the above code output\n",
    "# R Squared shows that only 5% of variance can be accounted for using this model.\n",
    "# there is significance of the independent variables based on the p-value. \n",
    "# More investigation would be needed to account for the low R Squared.\n",
    "# Additional variables would need to be integrated to increase R-Squared."
   ]
  },
  {
   "cell_type": "markdown",
   "metadata": {},
   "source": [
    "# Stretch"
   ]
  },
  {
   "cell_type": "markdown",
   "metadata": {},
   "source": [
    "How can you turn the regression model into a classification model?"
   ]
  },
  {
   "cell_type": "code",
   "execution_count": null,
   "metadata": {},
   "outputs": [],
   "source": []
  }
 ],
 "metadata": {
  "kernelspec": {
   "display_name": "Python 3",
   "language": "python",
   "name": "python3"
  },
  "language_info": {
   "codemirror_mode": {
    "name": "ipython",
    "version": 3
   },
   "file_extension": ".py",
   "mimetype": "text/x-python",
   "name": "python",
   "nbconvert_exporter": "python",
   "pygments_lexer": "ipython3",
   "version": "3.11.9"
  }
 },
 "nbformat": 4,
 "nbformat_minor": 4
}
