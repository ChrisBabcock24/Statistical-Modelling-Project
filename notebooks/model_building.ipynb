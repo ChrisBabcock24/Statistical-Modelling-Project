{
 "cells": [
  {
   "cell_type": "markdown",
   "metadata": {},
   "source": [
    "Build a regression model."
   ]
  },
  {
   "cell_type": "code",
   "execution_count": 2,
   "metadata": {},
   "outputs": [],
   "source": [
    "import pandas as pd\n",
    "import statsmodels.api as sm"
   ]
  },
  {
   "cell_type": "code",
   "execution_count": 3,
   "metadata": {},
   "outputs": [
    {
     "name": "stdout",
     "output_type": "stream",
     "text": [
      "                               Bike Station Name   Latitude  Longitude  \\\n",
      "0  Gare d'autocars de Montréal (Berri / Ontario)  45.516926 -73.564257   \n",
      "1  Gare d'autocars de Montréal (Berri / Ontario)  45.516926 -73.564257   \n",
      "2  Gare d'autocars de Montréal (Berri / Ontario)  45.516926 -73.564257   \n",
      "3  Gare d'autocars de Montréal (Berri / Ontario)  45.516926 -73.564257   \n",
      "4  Gare d'autocars de Montréal (Berri / Ontario)  45.516926 -73.564257   \n",
      "\n",
      "   Free_Bikes  Empty_Slots         POI Name  Rating  \\\n",
      "0           9            3             LAON     4.8   \n",
      "1           9            3           O'Thym     4.5   \n",
      "2           9            3  Les Deux Gamins     4.2   \n",
      "3           9            3           Sparta     4.7   \n",
      "4           9            3     Poutineville     4.3   \n",
      "\n",
      "                                             Address  POI Count  \\\n",
      "0  1657 Rue Saint-Denis, Montreal, QC H2X 3K4, Ca...         50   \n",
      "1  1112 Boulevard de Maisonneuve E, Montreal, QC ...         50   \n",
      "2  170 Rue Prince Arthur E, Montreal, QC H2X 1B7,...         50   \n",
      "3  405B Rue Sherbrooke E, Montreal, QC H2L 1J9, C...         50   \n",
      "4   1365 Rue Ontario E, Montreal, QC H2L 1S1, Canada         50   \n",
      "\n",
      "   Average Rating  \n",
      "0           4.364  \n",
      "1           4.364  \n",
      "2           4.364  \n",
      "3           4.364  \n",
      "4           4.364  \n"
     ]
    }
   ],
   "source": [
    "file_path = r'D:/Documents/GitHub/Statistical-Modelling-Project/filtered_merged_data.csv'\n",
    "\n",
    "# Read the CSV file into a DataFrame\n",
    "merged_df = pd.read_csv(file_path)\n",
    "\n",
    "# Display the first few rows of the DataFrame to verify import\n",
    "print(merged_df.head())"
   ]
  },
  {
   "cell_type": "code",
   "execution_count": 4,
   "metadata": {},
   "outputs": [
    {
     "name": "stdout",
     "output_type": "stream",
     "text": [
      "                            OLS Regression Results                            \n",
      "==============================================================================\n",
      "Dep. Variable:                 Rating   R-squared:                       0.120\n",
      "Model:                            OLS   Adj. R-squared:                  0.120\n",
      "Method:                 Least Squares   F-statistic:                     493.5\n",
      "Date:                Fri, 12 Jul 2024   Prob (F-statistic):               0.00\n",
      "Time:                        18:48:57   Log-Likelihood:                -20992.\n",
      "No. Observations:               14435   AIC:                         4.199e+04\n",
      "Df Residuals:                   14430   BIC:                         4.203e+04\n",
      "Df Model:                           4                                         \n",
      "Covariance Type:            nonrobust                                         \n",
      "===============================================================================\n",
      "                  coef    std err          t      P>|t|      [0.025      0.975]\n",
      "-------------------------------------------------------------------------------\n",
      "const         684.9728     26.320     26.024      0.000     633.381     736.564\n",
      "Latitude      -10.9594      0.399    -27.472      0.000     -11.741     -10.177\n",
      "Longitude       2.5108      0.334      7.511      0.000       1.856       3.166\n",
      "Empty_Slots     0.0025      0.001      2.821      0.005       0.001       0.004\n",
      "POI Count       0.0533      0.002     24.992      0.000       0.049       0.058\n",
      "==============================================================================\n",
      "Omnibus:                     6381.780   Durbin-Watson:                   1.399\n",
      "Prob(Omnibus):                  0.000   Jarque-Bera (JB):            31297.282\n",
      "Skew:                          -2.145   Prob(JB):                         0.00\n",
      "Kurtosis:                       8.799   Cond. No.                     3.07e+05\n",
      "==============================================================================\n",
      "\n",
      "Notes:\n",
      "[1] Standard Errors assume that the covariance matrix of the errors is correctly specified.\n",
      "[2] The condition number is large, 3.07e+05. This might indicate that there are\n",
      "strong multicollinearity or other numerical problems.\n"
     ]
    }
   ],
   "source": [
    "# Define features and target using Rating as the dependent variable\n",
    "features = ['Latitude', 'Longitude','Empty_Slots', 'POI Count']\n",
    "target = 'Rating'  # Use Rating as the dependent variable\n",
    "\n",
    "# Read CSV file containing the data\n",
    "file_path = r'D:/Documents/GitHub/Statistical-Modelling-Project/filtered_merged_data.csv'\n",
    "\n",
    "# Prepare X (features) and y (target)\n",
    "X = merged_df[features]\n",
    "y = merged_df[target]\n",
    "\n",
    "# Add constant (for intercept)\n",
    "X = sm.add_constant(X)\n",
    "\n",
    "# Fit the linear regression model\n",
    "model = sm.OLS(y, X).fit()\n",
    "\n",
    "# Print the model summary\n",
    "print(model.summary())"
   ]
  },
  {
   "cell_type": "markdown",
   "metadata": {},
   "source": [
    "Provide model output and an interpretation of the results. "
   ]
  },
  {
   "cell_type": "code",
   "execution_count": null,
   "metadata": {},
   "outputs": [],
   "source": [
    "# See the above code output\n",
    "# R Squared shows that only 12% of variance can be accounted for using this model.\n",
    "# there is significance of the independent variables based on the p-values\n",
    "# More investigation would be needed to account for the low R Squared."
   ]
  },
  {
   "cell_type": "markdown",
   "metadata": {},
   "source": [
    "# Stretch"
   ]
  },
  {
   "cell_type": "markdown",
   "metadata": {},
   "source": [
    "How can you turn the regression model into a classification model?"
   ]
  },
  {
   "cell_type": "code",
   "execution_count": null,
   "metadata": {},
   "outputs": [],
   "source": []
  }
 ],
 "metadata": {
  "kernelspec": {
   "display_name": "Python 3",
   "language": "python",
   "name": "python3"
  },
  "language_info": {
   "codemirror_mode": {
    "name": "ipython",
    "version": 3
   },
   "file_extension": ".py",
   "mimetype": "text/x-python",
   "name": "python",
   "nbconvert_exporter": "python",
   "pygments_lexer": "ipython3",
   "version": "3.11.9"
  }
 },
 "nbformat": 4,
 "nbformat_minor": 4
}
