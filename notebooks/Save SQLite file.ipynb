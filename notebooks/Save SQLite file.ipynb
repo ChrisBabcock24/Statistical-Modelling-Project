{
 "cells": [
  {
   "cell_type": "code",
   "execution_count": 1,
   "metadata": {},
   "outputs": [
    {
     "name": "stdout",
     "output_type": "stream",
     "text": [
      "Table 'foursquare_data' created successfully.\n",
      "Table 'yelp_data' created successfully.\n",
      "Table 'montreal_df' created successfully.\n"
     ]
    }
   ],
   "source": [
    "import sqlite3\n",
    "import pandas as pd\n",
    "\n",
    "# File paths for your CSV files\n",
    "csv_files = [\n",
    "    'D:/Documents/GitHub/Statistical-Modelling-Project/notebooks/foursquare_data.csv',\n",
    "    'D:/Documents/GitHub/Statistical-Modelling-Project/notebooks/yelp_data.csv',\n",
    "    'D:/Documents/GitHub/Statistical-Modelling-Project/notebooks/montreal_df.csv'\n",
    "]\n",
    "\n",
    "# Function to create SQLite database and tables\n",
    "def create_db_and_tables():\n",
    "    conn = sqlite3.connect('Montreal_POI_BIKE.db')  # Connecting to SQLite database\n",
    "    cursor = conn.cursor()\n",
    "\n",
    "    # Create tables for each CSV file\n",
    "    for csv_file in csv_files:\n",
    "        table_name = csv_file.split('/')[-1].split('.')[0]  # Extract table name from file path\n",
    "        df = pd.read_csv(csv_file)  # Reading CSV into DataFrame\n",
    "\n",
    "        # Convert DataFrame to SQL table\n",
    "        df.to_sql(table_name, conn, if_exists='replace', index=False)\n",
    "\n",
    "#Confirm that the Table was created \n",
    "        print(f\"Table '{table_name}' created successfully.\")\n",
    "\n",
    "    conn.close()\n",
    "\n",
    "# in researching for method to combine these dataframes found this would limit the execution of the code to prevent it from \n",
    "#being run automatically. This may cause data to be overwritten which could erase steps to clean data. \n",
    "if __name__ == \"__main__\":\n",
    "    create_db_and_tables()"
   ]
  },
  {
   "cell_type": "code",
   "execution_count": null,
   "metadata": {},
   "outputs": [],
   "source": []
  }
 ],
 "metadata": {
  "kernelspec": {
   "display_name": "Python 3",
   "language": "python",
   "name": "python3"
  },
  "language_info": {
   "codemirror_mode": {
    "name": "ipython",
    "version": 3
   },
   "file_extension": ".py",
   "mimetype": "text/x-python",
   "name": "python",
   "nbconvert_exporter": "python",
   "pygments_lexer": "ipython3",
   "version": "3.11.9"
  }
 },
 "nbformat": 4,
 "nbformat_minor": 2
}
