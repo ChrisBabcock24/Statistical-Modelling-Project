{
 "cells": [
  {
   "cell_type": "code",
   "execution_count": null,
   "metadata": {},
   "outputs": [],
   "source": []
  },
  {
   "cell_type": "code",
   "execution_count": 2,
   "metadata": {},
   "outputs": [
    {
     "name": "stdout",
     "output_type": "stream",
     "text": [
      "                        Name  \\\n",
      "0                      Cadet   \n",
      "1                  L'Express   \n",
      "2       Le Club Espresso Bar   \n",
      "3              Bouillon Bilk   \n",
      "4  Pourquoi Pas Espresso Bar   \n",
      "\n",
      "                                             Address   Latitude  Longitude  \\\n",
      "0  1431 Saint-Laurent Blvd (entre De Maisonneuve ...  45.510388 -73.564365   \n",
      "1  3927 Saint-Denis Rue (entre Duluth & Roy), Mon...  45.520186 -73.574269   \n",
      "2          3801 Saint-Denis Rue, Montréal QC H2W 2M4  45.519481 -73.572648   \n",
      "3  1595 Saint-Laurent Blvd (entre De Maisonneuve ...  45.511038 -73.565936   \n",
      "4  1447 Atateken Rue (entre De Maisonneuve & Ste-...  45.517964 -73.557776   \n",
      "\n",
      "                        Categories Rating TotalRatings  \n",
      "0           [Restaurant, Wine Bar]   None         None  \n",
      "1      [Bistro, French Restaurant]   None         None  \n",
      "2                           [Café]   None         None  \n",
      "3                     [Restaurant]   None         None  \n",
      "4  [Café, Coffee Shop, Restaurant]   None         None  \n"
     ]
    }
   ],
   "source": [
    "import os\n",
    "from dotenv import load_dotenv\n",
    "import requests\n",
    "import pandas as pd\n",
    "\n",
    "# Load environment variables\n",
    "load_dotenv('D:/Documents/GitHub/Statistical-Modelling-Project/notebooks/.env')\n",
    "\n",
    "# Declare API key and client info\n",
    "FOURSQUARE_API_KEY = os.getenv(\"FOURSQUARE_API_KEY\")\n",
    "CLIENT_ID = os.getenv(\"CLIENT_ID\")\n",
    "CLIENT_SECRET = os.getenv(\"CLIENT_SECRET\")\n",
    "\n",
    "# URL for places query\n",
    "base_url = 'https://api.foursquare.com/v3/places/search'\n",
    "\n",
    "# Load dataframe from CSV\n",
    "montreal_bike_data = pd.read_csv('D:/Documents/GitHub/Statistical-Modelling-Project/notebooks/montreal_df.csv')\n",
    "\n",
    "# Initialize empty list to store data for DataFrame\n",
    "data_for_df = []\n",
    "\n",
    "# Parameters for API request\n",
    "params = {\n",
    "    'query': 'restaurant',\n",
    "    'radius': 1000,\n",
    "    'limit': 10,\n",
    "    'sort': 'rating'\n",
    "}\n",
    "\n",
    "headers = {\n",
    "    \"Accept\": \"application/json\",\n",
    "    \"Authorization\": FOURSQUARE_API_KEY\n",
    "}\n",
    "\n",
    "# Loop through dataframe to make API requests\n",
    "for index, row in montreal_bike_data.iterrows():\n",
    "    latitude = row['latitude']\n",
    "    longitude = row['longitude']\n",
    "    ll_joined = f\"{latitude},{longitude}\"\n",
    "    params['ll'] = ll_joined\n",
    "\n",
    "    try:\n",
    "        response = requests.get(base_url, params=params, headers=headers, timeout=30)\n",
    "        response.raise_for_status()\n",
    "\n",
    "        result_data = response.json()\n",
    "        \n",
    "        # Extract relevant information from the result_data\n",
    "        for result in result_data.get('results', []):\n",
    "            venue_name = result.get('name')\n",
    "            address = result['location'].get('formatted_address')\n",
    "            latitude = result['geocodes']['main']['latitude']\n",
    "            longitude = result['geocodes']['main']['longitude']\n",
    "            categories = [cat['name'] for cat in result['categories']]\n",
    "            rating = result.get('rating', None)\n",
    "            total_ratings = result['stats']['total_ratings'] if 'stats' in result else None\n",
    "        \n",
    "        #get further details to calculate a \n",
    "            \n",
    "          # Append extracted data to data_for_df as a dictionary\n",
    "            data_for_df.append({\n",
    "                'Name': venue_name,\n",
    "                'Address': address,\n",
    "                'Latitude': latitude,\n",
    "                'Longitude': longitude,\n",
    "                'Categories': categories,\n",
    "                'Rating': rating,\n",
    "                'TotalRatings': total_ratings\n",
    "            })\n",
    "    \n",
    "    except requests.exceptions.RequestException as e:\n",
    "        print(f\"Request failed for latitude {latitude}, longitude {longitude}. Error: {e}\")\n",
    "\n",
    "# Convert the list of dictionaries into a DataFrame\n",
    "foursquare_df = pd.DataFrame(data_for_df)\n",
    "\n",
    "# Display the DataFrame\n",
    "print(foursquare_df.head())\n",
    "foursquare_df.to_csv('foursquare_data.csv', index=False)"
   ]
  },
  {
   "cell_type": "code",
   "execution_count": 13,
   "metadata": {},
   "outputs": [
    {
     "data": {
      "text/plain": [
       "(7992, 7)"
      ]
     },
     "execution_count": 13,
     "metadata": {},
     "output_type": "execute_result"
    }
   ],
   "source": [
    "foursquare_df.shape"
   ]
  },
  {
   "cell_type": "code",
   "execution_count": 22,
   "metadata": {},
   "outputs": [],
   "source": [
    "null_rating_count = df['rating'].notnull().sum()"
   ]
  },
  {
   "cell_type": "code",
   "execution_count": 1,
   "metadata": {},
   "outputs": [
    {
     "ename": "NameError",
     "evalue": "name 'null_rating_count' is not defined",
     "output_type": "error",
     "traceback": [
      "\u001b[1;31m---------------------------------------------------------------------------\u001b[0m",
      "\u001b[1;31mNameError\u001b[0m                                 Traceback (most recent call last)",
      "Cell \u001b[1;32mIn[1], line 1\u001b[0m\n\u001b[1;32m----> 1\u001b[0m \u001b[43mnull_rating_count\u001b[49m\n",
      "\u001b[1;31mNameError\u001b[0m: name 'null_rating_count' is not defined"
     ]
    }
   ],
   "source": [
    "null_rating_count\n"
   ]
  },
  {
   "cell_type": "code",
   "execution_count": null,
   "metadata": {},
   "outputs": [],
   "source": []
  }
 ],
 "metadata": {
  "kernelspec": {
   "display_name": "Python 3",
   "language": "python",
   "name": "python3"
  },
  "language_info": {
   "codemirror_mode": {
    "name": "ipython",
    "version": 3
   },
   "file_extension": ".py",
   "mimetype": "text/x-python",
   "name": "python",
   "nbconvert_exporter": "python",
   "pygments_lexer": "ipython3",
   "version": "3.11.9"
  }
 },
 "nbformat": 4,
 "nbformat_minor": 2
}
